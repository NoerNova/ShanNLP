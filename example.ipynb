{
 "cells": [
  {
   "cell_type": "code",
   "execution_count": 5,
   "id": "initial_id",
   "metadata": {
    "ExecuteTime": {
     "end_time": "2023-12-02T20:00:59.059610Z",
     "start_time": "2023-12-02T20:00:58.497512Z"
    },
    "collapsed": true
   },
   "outputs": [
    {
     "name": "stdout",
     "output_type": "stream",
     "text": [
      "['ၵူၺ်းၵႃႈ', 'ဢၼ်', 'ပိုၼ်ၽၢဝ်ႇ', 'ဝႃႈ', 'AA', 'ပဵၼ်', 'ၸုမ်း', 'ၵေႃႇ', 'ၵၢၼ်', 'ႁၢႆႉ', 'ဢၼ်', 'ဝႃႈ', 'ၼၼ်ႉ', 'ပဵၼ်', 'လူင်ပွင်ၸိုင်ႈ', 'ၵူၼ်းမိူင်း', 'ၵေႃႉ', 'ပိုၼ်ၽၢဝ်ႇ', 'မႃး', '။', 'ၶေႃႈ', 'ပိုၼ်ၽၢဝ်ႇ', 'ဢၼ်', 'လူင်ပွင်ၸိုင်ႈ', 'ၵူၼ်းမိူင်း', 'ဢွၵ်ႇမႃး', 'ဝႆႉ', 'ၼၼ်ႉ', 'မိူဝ်ႈလဵဝ်', 'ယူႇ', 'တီႈ', 'ၶွင်ႊ', 'သီႊ', 'သိုၵ်း', 'မၢၼ်ႈ', 'ဢၼ်', 'တဵၵ်း', 'သိမ်း', 'ဢဝ်', 'ဢႃႇၼႃႇ', 'ဢၼ်', 'ဢမ်ႇၸႂ်ႈ', 'ၸုမ်း', 'ပဵၼ်', 'တၢင်း', 'ၵၢၼ်', 'ၶိုၼ်းဝႃႈ', 'ယိုတ်းသိမ်း', 'ပႅတ်ႈ', 'ၶေႃႈ', 'ပိုၼ်ၽၢဝ်ႇ', 'ဢၼ်ၼၼ်ႉ', 'ၼႆ', 'ႁဝ်းၶႃႈ', 'မႃး', 'ယိၼ်း', 'ၼႆႉ', 'မၼ်း', 'ပိူင်ႈ', 'ႁွႆႈ', 'ၵၼ်', 'ဝႆႉ', 'ဢိတ်းၼိုင်ႈ', 'ယဝ်ႉ', '။']\n",
      "length of tokenized_text: 65\n",
      "Execution time: 0.25066590309143066\n"
     ]
    }
   ],
   "source": [
    "import time\n",
    "from shannlp import word_tokenize\n",
    "\n",
    "# to measure time\n",
    "start = time.time()\n",
    "\n",
    "# # Example usage\n",
    "input_text = \"ၵူၺ်းၵႃႈ ဢၼ်ပိုၼ်ၽၢဝ်ႇဝႃႈ AA ပဵၼ်ၸုမ်းၵေႃႇၵၢၼ်ႁၢႆႉ ဢၼ်ဝႃႈၼၼ်ႉပဵၼ်လူင်ပွင်ၸိုင်ႈၵူၼ်းမိူင်းၵေႃႉပိုၼ်ၽၢဝ်ႇမႃး။ ၶေႃႈပိုၼ်ၽၢဝ်ႇဢၼ်လူင်ပွင်ၸိုင်ႈၵူၼ်းမိူင်းဢွၵ်ႇမႃးဝႆႉၼၼ်ႉ မိူဝ်ႈလဵဝ် ယူႇတီႈၶွင်ႊသီႊသိုၵ်းမၢၼ်ႈ ဢၼ်တဵၵ်းသိမ်း ဢဝ်ဢႃႇၼႃႇ ဢၼ်ဢမ်ႇၸႂ်ႈၸုမ်းပဵၼ်တၢင်းၵၢၼ် ၶိုၼ်းဝႃႈ ယိုတ်းသိမ်းပႅတ်ႈၶေႃႈပိုၼ်ၽၢဝ်ႇဢၼ်ၼၼ်ႉၼႆ ႁဝ်းၶႃႈ မႃး ယိၼ်းၼႆႉ မၼ်းပိူင်ႈႁွႆႈ ၵၼ်ဝႆႉဢိတ်းၼိုင်ႈယဝ်ႉ။\"\n",
    "# tokenized_text = word_tokenize(input_text, engine=\"mm\", keep_whitespace=False)\n",
    "tokenized_text = word_tokenize(input_text, engine=\"newmm\", keep_whitespace=False)\n",
    "\n",
    "print(tokenized_text)\n",
    "print(\"length of tokenized_text:\", len(tokenized_text))\n",
    "\n",
    "end = time.time()\n",
    "print(\"Execution time:\", end - start)"
   ]
  },
  {
   "cell_type": "code",
   "execution_count": 3,
   "id": "d65239516e536fc4",
   "metadata": {
    "ExecuteTime": {
     "end_time": "2023-12-02T20:06:27.995752Z",
     "start_time": "2023-12-02T20:06:27.989797Z"
    },
    "collapsed": false
   },
   "outputs": [
    {
     "name": "stdout",
     "output_type": "stream",
     "text": [
      "['กระทรวง']\n"
     ]
    }
   ],
   "source": [
    "from pythainlp import word_tokenize\n",
    "\n",
    "print(word_tokenize(\"กระทรวง\", keep_whitespace=False))"
   ]
  }
 ],
 "metadata": {
  "kernelspec": {
   "display_name": "shannlp",
   "language": "python",
   "name": "python3"
  },
  "language_info": {
   "codemirror_mode": {
    "name": "ipython",
    "version": 3
   },
   "file_extension": ".py",
   "mimetype": "text/x-python",
   "name": "python",
   "nbconvert_exporter": "python",
   "pygments_lexer": "ipython3",
   "version": "3.11.10"
  }
 },
 "nbformat": 4,
 "nbformat_minor": 5
}
